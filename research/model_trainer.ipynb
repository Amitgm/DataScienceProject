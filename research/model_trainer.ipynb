{
 "cells": [
  {
   "cell_type": "code",
   "execution_count": 1,
   "metadata": {},
   "outputs": [],
   "source": [
    "import os"
   ]
  },
  {
   "cell_type": "code",
   "execution_count": 2,
   "metadata": {},
   "outputs": [
    {
     "data": {
      "text/plain": [
       "'c:\\\\Users\\\\amitt\\\\Documents\\\\DataScienceProject\\\\research'"
      ]
     },
     "execution_count": 2,
     "metadata": {},
     "output_type": "execute_result"
    }
   ],
   "source": [
    "%pwd"
   ]
  },
  {
   "cell_type": "code",
   "execution_count": 3,
   "metadata": {},
   "outputs": [],
   "source": [
    "os.chdir(\"../\")"
   ]
  },
  {
   "cell_type": "code",
   "execution_count": 4,
   "metadata": {},
   "outputs": [],
   "source": [
    "from dataclasses import dataclass\n",
    "from pathlib import Path\n",
    "\n",
    "@dataclass\n",
    "class ModelTrainerConfig:\n",
    "\n",
    "    root_dir: Path\n",
    "    train_data_path: Path\n",
    "    test_data_path: Path\n",
    "    metrics_path: Path\n",
    "    alpha: float\n",
    "    l1_ratio: float\n",
    "    target_col: str\n"
   ]
  },
  {
   "cell_type": "code",
   "execution_count": 5,
   "metadata": {},
   "outputs": [],
   "source": [
    "from src.datascience.constants import *\n",
    "from src.datascience.utils.common import read_yaml,create_directory"
   ]
  },
  {
   "cell_type": "code",
   "execution_count": 6,
   "metadata": {},
   "outputs": [],
   "source": [
    "# updating the configuration manager\n",
    "class ConfigurationManager:\n",
    "\n",
    "    def __init__(self,config_filepath=CONFIG_FILE_PATH,\n",
    "                 param_file_path=PARAMS_FILE_PATH,\n",
    "                 schema_file_path=SCHEMAS_FILE_PATH):\n",
    "\n",
    "        self.config = read_yaml(config_filepath)\n",
    "        self.param = read_yaml(param_file_path)\n",
    "        self.schema = read_yaml(schema_file_path)\n",
    "\n",
    "\n",
    "        create_directory([self.config.artifacts_root])\n",
    "\n",
    "\n",
    "    def get_model_trainer(self) -> ModelTrainerConfig:\n",
    "\n",
    "        \n",
    "\n",
    "        config = self.config.model_trainer\n",
    "        # we are getting all the parameters\n",
    "\n",
    "        params = self.param.ElasticNet\n",
    "\n",
    "        schema = self.schema.TARGET_COLUMN\n",
    "        \n",
    "\n",
    "        create_directory([config.root_dir])\n",
    "\n",
    "        # creating the object with all the class attributes/members/parameters\n",
    "\n",
    "        model_trainer_config = ModelTrainerConfig    (\n",
    "\n",
    "\n",
    "            root_dir = config.root_dir,\n",
    "            train_data_path= config.train_data_path,\n",
    "            test_data_path = config.test_data_path,\n",
    "            model_path=config.model_path,\n",
    "            alpha = params.alpha,\n",
    "            l1_ratio = params.l1_Ratio,\n",
    "            target_col = schema.name,\n",
    "\n",
    "        )\n",
    "\n",
    "        # returning the object\n",
    "        return model_trainer_config\n"
   ]
  },
  {
   "cell_type": "code",
   "execution_count": 7,
   "metadata": {},
   "outputs": [],
   "source": [
    "import pandas as pd\n",
    "import os\n",
    "\n",
    "from src.datascience import logger\n",
    "from sklearn.linear_model import ElasticNet\n",
    "\n",
    "import joblib"
   ]
  },
  {
   "cell_type": "code",
   "execution_count": 8,
   "metadata": {},
   "outputs": [],
   "source": [
    "class ModelTrainer:\n",
    "\n",
    "    def __init__(self,config:ModelTrainerConfig):\n",
    "\n",
    "        self.config = config\n",
    "\n",
    "    def train_model(self):\n",
    "\n",
    "        train_data = pd.read_csv(self.config.train_data_path)\n",
    "\n",
    "        test_data = pd.read_csv(self.config.test_data_path)\n",
    "\n",
    "\n",
    "        train_x = train_data.drop(self.config.target_col,axis=1)\n",
    "        test_x = test_data.drop(self.config.target_col,axis=1)\n",
    "        train_y = train_data[self.config.target_col]\n",
    "        test_y = test_data[self.config.target_col]\n",
    "\n",
    "        lr = ElasticNet(alpha=self.config.alpha,l1_ratio=self.config.l1_ratio,random_state=42)\n",
    "\n",
    "        lr.fit(train_x,train_y)\n",
    "\n",
    "        joblib.dump(lr,os.path.join(self.config.root_dir,self.config.model_path))\n"
   ]
  },
  {
   "cell_type": "code",
   "execution_count": 9,
   "metadata": {},
   "outputs": [
    {
     "name": "stdout",
     "output_type": "stream",
     "text": [
      "[2024-11-03 01:33:11,298 - INFO - common - yaml file : config\\config.yaml loaded successfully]\n",
      "the content is : {content}, for yaml file : {yaml_file}\n",
      "[2024-11-03 01:33:11,299 - INFO - common - yaml file : params.yaml loaded successfully]\n",
      "the content is : {content}, for yaml file : {yaml_file}\n",
      "[2024-11-03 01:33:11,299 - INFO - common - yaml file : schema.yaml loaded successfully]\n",
      "the content is : {content}, for yaml file : {yaml_file}\n",
      "[2024-11-03 01:33:11,299 - INFO - common - directory : artifacts created successfully]\n",
      "[2024-11-03 01:33:11,299 - INFO - common - directory : artifacts/model_trainer created successfully]\n"
     ]
    }
   ],
   "source": [
    "try:\n",
    "    config = ConfigurationManager()\n",
    "\n",
    "    model_trainer_config = config.get_model_trainer()\n",
    "\n",
    "    model_trainer = ModelTrainer(model_trainer_config)\n",
    "\n",
    "    model_trainer.train_model()\n",
    "\n",
    "except Exception as e:\n",
    "\n",
    "    raise e\n",
    "\n"
   ]
  },
  {
   "cell_type": "code",
   "execution_count": null,
   "metadata": {},
   "outputs": [],
   "source": []
  }
 ],
 "metadata": {
  "kernelspec": {
   "display_name": "venv",
   "language": "python",
   "name": "python3"
  },
  "language_info": {
   "codemirror_mode": {
    "name": "ipython",
    "version": 3
   },
   "file_extension": ".py",
   "mimetype": "text/x-python",
   "name": "python",
   "nbconvert_exporter": "python",
   "pygments_lexer": "ipython3",
   "version": "3.10.3"
  }
 },
 "nbformat": 4,
 "nbformat_minor": 2
}
