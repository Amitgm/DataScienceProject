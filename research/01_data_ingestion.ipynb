{
 "cells": [
  {
   "cell_type": "code",
   "execution_count": 1,
   "metadata": {},
   "outputs": [],
   "source": [
    "import os\n"
   ]
  },
  {
   "cell_type": "code",
   "execution_count": 2,
   "metadata": {},
   "outputs": [
    {
     "data": {
      "text/plain": [
       "'c:\\\\Users\\\\amitt\\\\Documents\\\\DataScienceProject\\\\research'"
      ]
     },
     "execution_count": 2,
     "metadata": {},
     "output_type": "execute_result"
    }
   ],
   "source": [
    "%pwd"
   ]
  },
  {
   "cell_type": "code",
   "execution_count": 3,
   "metadata": {},
   "outputs": [],
   "source": [
    "os.chdir(\"../\")"
   ]
  },
  {
   "cell_type": "code",
   "execution_count": 4,
   "metadata": {},
   "outputs": [],
   "source": [
    "from dataclasses import dataclass\n",
    "import os\n",
    "from pathlib import Path\n",
    "import urllib.request as request\n",
    "from src.datascience import logger\n",
    "import zipfile\n",
    "\n",
    "# no need self keypwrds\n",
    "@dataclass\n",
    "class DataIngestionconfig:\n",
    "\n",
    "    root_dir:Path \n",
    "    source_url : str\n",
    "    local_data_file: Path\n",
    "    unzip_dir: Path"
   ]
  },
  {
   "cell_type": "code",
   "execution_count": 5,
   "metadata": {},
   "outputs": [],
   "source": [
    "from src.datascience.constants import *\n",
    "from src.datascience.utils.common import read_yaml,create_directory"
   ]
  },
  {
   "cell_type": "code",
   "execution_count": 6,
   "metadata": {},
   "outputs": [],
   "source": [
    "# updating the configuration manager\n",
    "class ConfigurationManager:\n",
    "\n",
    "    def __init__(self,config_filepath=CONFIG_FILE_PATH,\n",
    "                 param_file_path=PARAMS_FILE_PATH,\n",
    "                 schema_file_path=SCHEMAS_FILE_PATH):\n",
    "\n",
    "        self.config = read_yaml(config_filepath)\n",
    "        self.param = read_yaml(param_file_path)\n",
    "        self.schema = read_yaml(schema_file_path)\n",
    "\n",
    "\n",
    "        create_directory([self.config.artifacts_root])\n",
    "\n",
    "\n",
    "    def get_data_ingestion_config(self) -> DataIngestionconfig:\n",
    "\n",
    "\n",
    "        config = self.config.data_ingestion\n",
    "\n",
    "        create_directory([config.root_dir,config.unzip_dir])\n",
    "\n",
    "        data_ingestion_config = DataIngestionconfig(\n",
    "\n",
    "\n",
    "            root_dir=Path(config.root_dir),\n",
    "            source_url=config.source_URL,\n",
    "            local_data_file=Path(config.local_data_file),\n",
    "            unzip_dir=config.unzip_dir\n",
    "\n",
    "        )\n",
    "\n",
    "        return data_ingestion_config\n",
    "\n"
   ]
  },
  {
   "cell_type": "code",
   "execution_count": 7,
   "metadata": {},
   "outputs": [],
   "source": [
    "class DataIngestion:\n",
    "\n",
    "    def __init__(self,config:DataIngestionconfig):\n",
    "\n",
    "        self.config = config\n",
    "\n",
    "    # downloading the zip file\n",
    "    def download_file(self):\n",
    "\n",
    "        if not os.path.exists(self.config.local_data_file):\n",
    "            # retrieving the source_url and then saving it in the local data file\n",
    "            filename, headers = request.urlretrieve(self.config.source_url,self.config.local_data_file)\n",
    "\n",
    "\n",
    "            logger.info(f\"downloaded file from {self.config.source_url} to {self.config.local_data_file}\")\n",
    "\n",
    "        else:\n",
    "            logger.info(f\"file already exists\")\n",
    "\n",
    "    \n",
    "    def extract_zip_file(self):\n",
    "\n",
    "        '''\n",
    "        \n",
    "        zip_file_path = str\n",
    "        extracts zip file into the given directory\n",
    "\n",
    "        '''\n",
    "\n",
    "        unzip_dir = self.config.unzip_dir\n",
    "        os.makedirs(unzip_dir,exist_ok=True)\n",
    "\n",
    "        with zipfile.ZipFile(self.config.local_data_file,\"r\") as zip_ref:\n",
    "\n",
    "\n",
    "            zip_ref.extractall(unzip_dir)"
   ]
  },
  {
   "cell_type": "code",
   "execution_count": 8,
   "metadata": {},
   "outputs": [
    {
     "name": "stdout",
     "output_type": "stream",
     "text": [
      "[2024-11-01 13:45:41,681 - INFO - common - yaml file : config\\config.yaml loaded successfully]\n",
      "the content is : {content}, for yaml file : {yaml_file}\n",
      "[2024-11-01 13:45:41,682 - INFO - common - yaml file : params.yaml loaded successfully]\n",
      "the content is : {content}, for yaml file : {yaml_file}\n",
      "[2024-11-01 13:45:41,684 - INFO - common - yaml file : schema.yaml loaded successfully]\n",
      "the content is : {content}, for yaml file : {yaml_file}\n",
      "[2024-11-01 13:45:41,684 - INFO - common - directory : artifacts created successfully]\n",
      "[2024-11-01 13:45:41,684 - INFO - common - directory : artifacts/data_ingestion created successfully]\n",
      "[2024-11-01 13:45:41,684 - INFO - common - directory : artifacts/data_ingestion created successfully]\n",
      "[2024-11-01 13:45:42,511 - INFO - 2227477263 - downloaded file from https://github.com/krishnaik06/datasets/raw/refs/heads/main/winequality-data.zip to artifacts\\data_ingestion\\data.zip]\n"
     ]
    }
   ],
   "source": [
    "\n",
    "\n",
    "config = ConfigurationManager()\n",
    "\n",
    "data_ingestion_config = config.get_data_ingestion_config()\n",
    "\n",
    "data_ingestion = DataIngestion(config = data_ingestion_config)\n",
    "\n",
    "data_ingestion.download_file()\n",
    "\n",
    "data_ingestion.extract_zip_file()\n",
    "\n"
   ]
  }
 ],
 "metadata": {
  "kernelspec": {
   "display_name": "venv",
   "language": "python",
   "name": "python3"
  },
  "language_info": {
   "codemirror_mode": {
    "name": "ipython",
    "version": 3
   },
   "file_extension": ".py",
   "mimetype": "text/x-python",
   "name": "python",
   "nbconvert_exporter": "python",
   "pygments_lexer": "ipython3",
   "version": "3.10.3"
  }
 },
 "nbformat": 4,
 "nbformat_minor": 2
}
