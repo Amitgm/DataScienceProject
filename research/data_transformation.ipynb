{
 "cells": [
  {
   "cell_type": "code",
   "execution_count": 1,
   "metadata": {},
   "outputs": [],
   "source": [
    "import os"
   ]
  },
  {
   "cell_type": "code",
   "execution_count": 2,
   "metadata": {},
   "outputs": [
    {
     "data": {
      "text/plain": [
       "'c:\\\\Users\\\\amitt\\\\Documents\\\\DataScienceProject\\\\research'"
      ]
     },
     "execution_count": 2,
     "metadata": {},
     "output_type": "execute_result"
    }
   ],
   "source": [
    "%pwd"
   ]
  },
  {
   "cell_type": "code",
   "execution_count": 3,
   "metadata": {},
   "outputs": [],
   "source": [
    "os.chdir(\"../\")"
   ]
  },
  {
   "cell_type": "code",
   "execution_count": 4,
   "metadata": {},
   "outputs": [],
   "source": [
    "from dataclasses import dataclass\n",
    "from pathlib import Path\n",
    "\n",
    "\n",
    "@dataclass\n",
    "class DataTransformationconfig:\n",
    "\n",
    "    root_dir : Path\n",
    "    data_path : Path"
   ]
  },
  {
   "cell_type": "code",
   "execution_count": 5,
   "metadata": {},
   "outputs": [],
   "source": [
    "from src.datascience.constants import *\n",
    "from src.datascience.utils.common import read_yaml,create_directory"
   ]
  },
  {
   "cell_type": "code",
   "execution_count": 6,
   "metadata": {},
   "outputs": [],
   "source": [
    "# updating the configuration manager\n",
    "class ConfigurationManager:\n",
    "\n",
    "    def __init__(self,config_filepath=CONFIG_FILE_PATH,\n",
    "                 param_file_path=PARAMS_FILE_PATH,\n",
    "                 schema_file_path=SCHEMAS_FILE_PATH):\n",
    "\n",
    "        self.config = read_yaml(config_filepath)\n",
    "        self.param = read_yaml(param_file_path)\n",
    "        self.schema = read_yaml(schema_file_path)\n",
    "\n",
    "\n",
    "        create_directory([self.config.artifacts_root])\n",
    "\n",
    "\n",
    "    def get_data_transformation_config(self) -> DataTransformationconfig:\n",
    "\n",
    "\n",
    "        config = self.config.data_transformation\n",
    "       \n",
    "\n",
    "        create_directory([config.root_dir])\n",
    "\n",
    "        data_transformation_config = DataTransformationconfig    (\n",
    "\n",
    "            root_dir=Path(config.root_dir),\n",
    "            data_path =Path(config.data_path),\n",
    "    \n",
    "        )\n",
    "\n",
    "        return data_transformation_config\n"
   ]
  },
  {
   "cell_type": "code",
   "execution_count": 7,
   "metadata": {},
   "outputs": [],
   "source": [
    "import os\n",
    "from src.datascience import logger\n",
    "import pandas as pd\n",
    "from sklearn.model_selection import train_test_split"
   ]
  },
  {
   "cell_type": "code",
   "execution_count": 8,
   "metadata": {},
   "outputs": [],
   "source": [
    "class DataTransformation:\n",
    "\n",
    "    def __init__(self,config:DataTransformationconfig):\n",
    "\n",
    "        self.config = config\n",
    "\n",
    "    # downloading the zip file\n",
    "    def train_test_split(self) -> bool:\n",
    "\n",
    "        data = pd.read_csv(self.config.data_path)\n",
    "\n",
    "        train,test = train_test_split(data,test_size=0.2)\n",
    "\n",
    "        train.to_csv(os.path.join(self.config.root_dir,\"train.csv\"),index=False)\n",
    "        test.to_csv(os.path.join(self.config.root_dir,\"test.csv\"),index=False)\n",
    "\n",
    "        logger.info(f\"train test split complete\")\n",
    "\n",
    "        logger.info(f\"train shape {train.shape}\")\n",
    "        logger.info(f\"test shape {test.shape}\")\n",
    "\n",
    "        "
   ]
  },
  {
   "cell_type": "code",
   "execution_count": 9,
   "metadata": {},
   "outputs": [
    {
     "name": "stdout",
     "output_type": "stream",
     "text": [
      "[2024-11-02 01:23:38,542 - INFO - common - yaml file : config\\config.yaml loaded successfully]\n",
      "the content is : {content}, for yaml file : {yaml_file}\n",
      "[2024-11-02 01:23:38,542 - INFO - common - yaml file : params.yaml loaded successfully]\n",
      "the content is : {content}, for yaml file : {yaml_file}\n",
      "[2024-11-02 01:23:38,549 - INFO - common - yaml file : schema.yaml loaded successfully]\n",
      "the content is : {content}, for yaml file : {yaml_file}\n",
      "[2024-11-02 01:23:38,550 - INFO - common - directory : artifacts created successfully]\n",
      "[2024-11-02 01:23:38,550 - INFO - common - directory : artifacts/data_transformation created successfully]\n",
      "[2024-11-02 01:23:38,579 - INFO - 2258365825 - train test split complete]\n",
      "[2024-11-02 01:23:38,579 - INFO - 2258365825 - train shape (1279, 12)]\n",
      "[2024-11-02 01:23:38,579 - INFO - 2258365825 - test shape (320, 12)]\n"
     ]
    },
    {
     "ename": "",
     "evalue": "",
     "output_type": "error",
     "traceback": [
      "\u001b[1;31mThe Kernel crashed while executing code in the current cell or a previous cell. \n",
      "\u001b[1;31mPlease review the code in the cell(s) to identify a possible cause of the failure. \n",
      "\u001b[1;31mClick <a href='https://aka.ms/vscodeJupyterKernelCrash'>here</a> for more info. \n",
      "\u001b[1;31mView Jupyter <a href='command:jupyter.viewOutput'>log</a> for further details."
     ]
    }
   ],
   "source": [
    "try:\n",
    "    config = ConfigurationManager()\n",
    "    data_transformation_config = config.get_data_transformation_config()\n",
    "    data_transformation = DataTransformation(data_transformation_config)\n",
    "    data_transformation.train_test_split()\n",
    "except Exception as e:\n",
    "\n",
    "    raise e"
   ]
  }
 ],
 "metadata": {
  "kernelspec": {
   "display_name": "venv",
   "language": "python",
   "name": "python3"
  },
  "language_info": {
   "codemirror_mode": {
    "name": "ipython",
    "version": 3
   },
   "file_extension": ".py",
   "mimetype": "text/x-python",
   "name": "python",
   "nbconvert_exporter": "python",
   "pygments_lexer": "ipython3",
   "version": "3.10.3"
  }
 },
 "nbformat": 4,
 "nbformat_minor": 2
}
