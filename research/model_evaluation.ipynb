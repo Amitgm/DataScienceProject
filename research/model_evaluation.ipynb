{
 "cells": [
  {
   "cell_type": "code",
   "execution_count": 1,
   "metadata": {},
   "outputs": [],
   "source": [
    "import os\n",
    "os.environ['MLFLOW_TRACKING_URI'] = \"https://dagshub.com/amittimer/DataScienceProject.mlflow\"\n",
    "os.environ[\"MLFLOW_TRACKING_USERNAME\"] = \"amittimer\"\n",
    "os.environ[\"MLFLOW_TRACKING_PASSWORD\"] = \"2f89005b2e2d95e60f8bd873d4818a02bad814f6\""
   ]
  },
  {
   "cell_type": "code",
   "execution_count": 2,
   "metadata": {},
   "outputs": [
    {
     "data": {
      "text/plain": [
       "'c:\\\\Users\\\\amitt\\\\Documents\\\\DataScienceProject\\\\research'"
      ]
     },
     "execution_count": 2,
     "metadata": {},
     "output_type": "execute_result"
    }
   ],
   "source": [
    "%pwd"
   ]
  },
  {
   "cell_type": "code",
   "execution_count": 3,
   "metadata": {},
   "outputs": [],
   "source": [
    "os.chdir(\"../\")"
   ]
  },
  {
   "cell_type": "code",
   "execution_count": 4,
   "metadata": {},
   "outputs": [],
   "source": [
    "from dataclasses import dataclass\n",
    "from pathlib import Path\n",
    "\n",
    "@dataclass\n",
    "class ModelEvaluatinconfig:\n",
    "\n",
    "    \n",
    "    root_dir: Path\n",
    "    model_path: Path\n",
    "    test_data_path: Path\n",
    "    metrics_path: Path\n",
    "    all_params: dict\n",
    "    target_column: str\n",
    "    mlflow_uri: str"
   ]
  },
  {
   "cell_type": "code",
   "execution_count": 5,
   "metadata": {},
   "outputs": [],
   "source": [
    "from src.datascience.constants import *\n",
    "from src.datascience.utils.common import read_yaml,create_directory,save_json"
   ]
  },
  {
   "cell_type": "code",
   "execution_count": 6,
   "metadata": {},
   "outputs": [],
   "source": [
    "# updating the configuration manager\n",
    "class ConfigurationManager:\n",
    "\n",
    "    def __init__(self,config_filepath=CONFIG_FILE_PATH,\n",
    "                 param_file_path=PARAMS_FILE_PATH,\n",
    "                 schema_file_path=SCHEMAS_FILE_PATH):\n",
    "\n",
    "        self.config = read_yaml(config_filepath)\n",
    "        self.param = read_yaml(param_file_path)\n",
    "        self.schema = read_yaml(schema_file_path)\n",
    "\n",
    "\n",
    "        create_directory([self.config.artifacts_root])\n",
    "\n",
    "\n",
    "    def get_model_evaluation_config(self) -> ModelEvaluatinconfig:\n",
    "\n",
    "        config = self.config.model_evaluation\n",
    "\n",
    "        params = self.param.ElasticNet\n",
    "\n",
    "        schema = self.schema.TARGET_COLUMN\n",
    "\n",
    "        create_directory([config.root_dir])\n",
    "\n",
    "\n",
    "        modelevaluationconfig =  ModelEvaluatinconfig(\n",
    "            root_dir = config.root_dir,\n",
    "            model_path = config.model_path,\n",
    "            test_data_path = config.test_data_path,\n",
    "            all_params = params,\n",
    "            metrics_path = config.metrics_path,\n",
    "            target_column = schema.name,\n",
    "            mlflow_uri= os.environ['MLFLOW_TRACKING_URI']\n",
    "        )\n",
    "\n",
    "\n",
    "        return modelevaluationconfig\n",
    "    \n",
    "    "
   ]
  },
  {
   "cell_type": "code",
   "execution_count": 7,
   "metadata": {},
   "outputs": [],
   "source": [
    "from sklearn.metrics import mean_squared_error, mean_absolute_error, r2_score\n",
    "\n",
    "from mlflow.sklearn import log_model\n",
    "from urllib.parse import urlparse\n",
    "import pandas as pd\n",
    "import joblib\n",
    "import mlflow\n",
    "import mlflow.sklearn\n",
    "import numpy as np"
   ]
  },
  {
   "cell_type": "code",
   "execution_count": 8,
   "metadata": {},
   "outputs": [],
   "source": [
    "class ModelEvalauation:\n",
    "\n",
    "    def __init__(self, config: ModelEvaluatinconfig):\n",
    "\n",
    "        self.config = config\n",
    "\n",
    "    def eval_metrics(self, actual, pred):\n",
    "\n",
    "        mse = np.sqrt(mean_squared_error(actual, pred))\n",
    "        mae = mean_absolute_error(actual, pred)\n",
    "        r2 = r2_score(actual, pred)\n",
    "\n",
    "\n",
    "        return mse,mae,r2\n",
    "\n",
    "\n",
    "    def log_into_mlflow(self):\n",
    "\n",
    "        test_data = pd.read_csv(self.config.test_data_path)\n",
    "\n",
    "        model = joblib.load(self.config.model_path)\n",
    "\n",
    "\n",
    "        test_x = test_data.drop(self.config.target_column,axis=1)\n",
    "        test_y = test_data[self.config.target_column]\n",
    "\n",
    "\n",
    "        mlflow.set_registry_uri(self.config.mlflow_uri)\n",
    "\n",
    "\n",
    "        tracking_uri_type_store = urlparse(mlflow.get_tracking_uri()).scheme\n",
    "\n",
    "\n",
    "        with mlflow.start_run():\n",
    "\n",
    "\n",
    "            predictions = model.predict(test_x)\n",
    "\n",
    "            (rmse,mae,r2) = self.eval_metrics(test_y, predictions)\n",
    "\n",
    "            scores = {\"rmse\":rmse, \"mae\":mae, \"r2\":r2}\n",
    "\n",
    "            save_json(path=Path(self.config.metrics_path), data = scores)\n",
    "\n",
    "            mlflow.log_params(self.config.all_params)\n",
    "\n",
    "            mlflow.log_metric(\"rmse\", rmse)\n",
    "            mlflow.log_metric(\"r2\", r2)\n",
    "            mlflow.log_metric(\"mae\", mae)\n",
    "\n",
    "\n",
    "        if tracking_uri_type_store!=\"file\":\n",
    "\n",
    "            mlflow.sklearn.log_model(model,\"model\",registered_model_name=\"Elasticmodelnew\")\n",
    "        \n",
    "        else:\n",
    "\n",
    "            mlflow.sklearn.log_model(model,\"model\")\n"
   ]
  },
  {
   "cell_type": "code",
   "execution_count": 9,
   "metadata": {},
   "outputs": [
    {
     "name": "stdout",
     "output_type": "stream",
     "text": [
      "[2024-11-04 12:13:52,816 - INFO - common - yaml file : config\\config.yaml loaded successfully]\n",
      "the content is : {content}, for yaml file : {yaml_file}\n",
      "[2024-11-04 12:13:52,827 - INFO - common - yaml file : params.yaml loaded successfully]\n",
      "the content is : {content}, for yaml file : {yaml_file}\n",
      "[2024-11-04 12:13:52,830 - INFO - common - yaml file : schema.yaml loaded successfully]\n",
      "the content is : {content}, for yaml file : {yaml_file}\n",
      "[2024-11-04 12:13:52,830 - INFO - common - directory : artifacts created successfully]\n",
      "[2024-11-04 12:13:52,830 - INFO - common - directory : artifacts/model_evaluation created successfully]\n",
      "[2024-11-04 12:13:53,627 - INFO - common - json file : artifacts\\model_evaluation\\metrics.json saved successfully]\n"
     ]
    },
    {
     "name": "stderr",
     "output_type": "stream",
     "text": [
      "2024/11/04 12:13:56 INFO mlflow.tracking._tracking_service.client: 🏃 View run spiffy-hound-554 at: https://dagshub.com/amittimer/DataScienceProject.mlflow/#/experiments/0/runs/cead04f61c9348cdb65e2fb81c915a46.\n",
      "2024/11/04 12:13:56 INFO mlflow.tracking._tracking_service.client: 🧪 View experiment at: https://dagshub.com/amittimer/DataScienceProject.mlflow/#/experiments/0.\n",
      "2024/11/04 12:13:59 WARNING mlflow.models.model: Model logged without a signature and input example. Please set `input_example` parameter when logging the model to auto infer the model signature.\n",
      "Successfully registered model 'Elasticmodelnew'.\n",
      "2024/11/04 12:14:04 INFO mlflow.store.model_registry.abstract_store: Waiting up to 300 seconds for model version to finish creation. Model name: Elasticmodelnew, version 1\n",
      "Created version '1' of model 'Elasticmodelnew'.\n"
     ]
    }
   ],
   "source": [
    "try:\n",
    "\n",
    "    config = ConfigurationManager()\n",
    "\n",
    "    ModelEvaluatinconfig = config.get_model_evaluation_config()\n",
    "\n",
    "    ModelEvalauation = ModelEvalauation(ModelEvaluatinconfig)\n",
    "\n",
    "    ModelEvalauation.log_into_mlflow()\n",
    "\n",
    "except Exception as e:\n",
    "\n",
    "    raise e"
   ]
  }
 ],
 "metadata": {
  "kernelspec": {
   "display_name": "venv",
   "language": "python",
   "name": "python3"
  },
  "language_info": {
   "codemirror_mode": {
    "name": "ipython",
    "version": 3
   },
   "file_extension": ".py",
   "mimetype": "text/x-python",
   "name": "python",
   "nbconvert_exporter": "python",
   "pygments_lexer": "ipython3",
   "version": "3.10.3"
  }
 },
 "nbformat": 4,
 "nbformat_minor": 2
}
